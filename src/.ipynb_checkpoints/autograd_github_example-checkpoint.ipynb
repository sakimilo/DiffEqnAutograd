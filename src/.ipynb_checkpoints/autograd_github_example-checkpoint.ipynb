{
 "cells": [
  {
   "cell_type": "code",
   "execution_count": 1,
   "metadata": {},
   "outputs": [],
   "source": [
    "import autograd.numpy as np\n",
    "from autograd import grad\n",
    "from autograd.scipy.integrate import odeint\n",
    "from autograd.builtins import tuple\n",
    "from autograd.misc.optimizers import adam\n",
    "import autograd.numpy.random as npr\n",
    "\n",
    "from tqdm import tqdm"
   ]
  },
  {
   "cell_type": "code",
   "execution_count": 2,
   "metadata": {},
   "outputs": [],
   "source": [
    "N = 30  # Dataset size\n",
    "D = 2   # Data dimension\n",
    "max_T = 1.5\n",
    "\n",
    "# Two-dimensional damped oscillator\n",
    "def func(y, t0, A):\n",
    "    return np.dot(y**3, A)\n",
    "\n",
    "def nn_predict(inputs, t, params):\n",
    "    for W, b in params:\n",
    "        outputs = np.dot(inputs, W) + b\n",
    "        inputs = np.maximum(0, outputs)\n",
    "    return outputs\n",
    "\n",
    "def init_nn_params(scale, layer_sizes, rs=npr.RandomState(0)):\n",
    "    \"\"\"Build a list of (weights, biases) tuples, one for each layer.\"\"\"\n",
    "    return [(rs.randn(insize, outsize) * scale,   # weight matrix\n",
    "             rs.randn(outsize) * scale)           # bias vector\n",
    "            for insize, outsize in zip(layer_sizes[:-1], layer_sizes[1:])]\n",
    "\n",
    "# Define neural ODE model.\n",
    "def ode_pred(params, y0, t):\n",
    "    return odeint(nn_predict, y0, t, tuple((params,)), rtol=0.01)\n",
    "\n",
    "def L1_loss(pred, targets):\n",
    "    return np.mean(np.abs(pred - targets))"
   ]
  },
  {
   "cell_type": "code",
   "execution_count": 3,
   "metadata": {},
   "outputs": [
    {
     "name": "stderr",
     "output_type": "stream",
     "text": [
      "Iteration 0 train loss 1.354702: 100%|██████████| 1/1 [00:02<00:00,  2.16s/it]"
     ]
    }
   ],
   "source": [
    "# Generate data from true dynamics.\n",
    "true_y0 = np.array([2., 0.]).T\n",
    "t = np.linspace(0., max_T, N)\n",
    "true_A = np.array([[-0.1, 2.0], [-2.0, -0.1]])\n",
    "true_y = odeint(func, true_y0, t, args=(true_A,))\n",
    "\n",
    "def train_loss(params, iter):\n",
    "    pred = ode_pred(params, true_y0, t)\n",
    "    return L1_loss(pred, true_y)\n",
    "\n",
    "num_iters = 1\n",
    "pbar      = tqdm(range(num_iters))\n",
    "def callback(params, iter, g):\n",
    "    pred   = ode_pred(params, true_y0, t)\n",
    "    status = \"Iteration {:d} train loss {:.6f}\".format(\n",
    "          iter, L1_loss(pred, true_y))\n",
    "    pbar.set_description(status)\n",
    "    pbar.update(1)\n",
    "    \n",
    "init_params = init_nn_params(0.1, layer_sizes=[D, 150, D])\n",
    "optimized_params = adam(grad(train_loss), init_params,\n",
    "                        num_iters=num_iters, callback=callback)"
   ]
  },
  {
   "cell_type": "code",
   "execution_count": 4,
   "metadata": {},
   "outputs": [
    {
     "data": {
      "text/plain": [
       "2"
      ]
     },
     "execution_count": 4,
     "metadata": {},
     "output_type": "execute_result"
    }
   ],
   "source": [
    "len(init_params)"
   ]
  },
  {
   "cell_type": "code",
   "execution_count": 6,
   "metadata": {},
   "outputs": [
    {
     "data": {
      "text/plain": [
       "(2, 150)"
      ]
     },
     "execution_count": 6,
     "metadata": {},
     "output_type": "execute_result"
    }
   ],
   "source": [
    "init_params[0][0].shape"
   ]
  },
  {
   "cell_type": "code",
   "execution_count": 7,
   "metadata": {},
   "outputs": [
    {
     "data": {
      "text/plain": [
       "(150,)"
      ]
     },
     "execution_count": 7,
     "metadata": {},
     "output_type": "execute_result"
    }
   ],
   "source": [
    "init_params[0][1].shape"
   ]
  },
  {
   "cell_type": "code",
   "execution_count": 8,
   "metadata": {},
   "outputs": [
    {
     "data": {
      "text/plain": [
       "(150, 2)"
      ]
     },
     "execution_count": 8,
     "metadata": {},
     "output_type": "execute_result"
    }
   ],
   "source": [
    "init_params[1][0].shape"
   ]
  },
  {
   "cell_type": "code",
   "execution_count": 9,
   "metadata": {},
   "outputs": [
    {
     "data": {
      "text/plain": [
       "(2,)"
      ]
     },
     "execution_count": 9,
     "metadata": {},
     "output_type": "execute_result"
    }
   ],
   "source": [
    "init_params[1][1].shape"
   ]
  }
 ],
 "metadata": {
  "kernelspec": {
   "display_name": "Python 3",
   "language": "python",
   "name": "python3"
  },
  "language_info": {
   "codemirror_mode": {
    "name": "ipython",
    "version": 3
   },
   "file_extension": ".py",
   "mimetype": "text/x-python",
   "name": "python",
   "nbconvert_exporter": "python",
   "pygments_lexer": "ipython3",
   "version": "3.6.4"
  }
 },
 "nbformat": 4,
 "nbformat_minor": 2
}
