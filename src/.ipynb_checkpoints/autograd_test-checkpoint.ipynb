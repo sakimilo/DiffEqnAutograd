{
 "cells": [
  {
   "cell_type": "code",
   "execution_count": 2,
   "metadata": {},
   "outputs": [],
   "source": [
    "import autograd.numpy as np\n",
    "from autograd import grad\n",
    "from autograd.scipy.integrate import odeint\n",
    "from autograd.builtins import tuple\n",
    "from autograd.misc.optimizers import adam\n",
    "import autograd.numpy.random as npr\n",
    "\n",
    "\n",
    "N = 30  # Dataset size\n",
    "D = 2   # Data dimension\n",
    "max_T = 1.5\n",
    "\n",
    "# Two-dimensional damped oscillator\n",
    "def func(y, t0, A):\n",
    "    return np.dot(y**3, A)\n",
    "\n",
    "def nn_predict(inputs, t, params):\n",
    "    for W, b in params:\n",
    "        outputs = np.dot(inputs, W) + b\n",
    "        inputs = np.maximum(0, outputs)\n",
    "    return outputs\n",
    "\n",
    "def init_nn_params(scale, layer_sizes, rs=npr.RandomState(0)):\n",
    "    \"\"\"Build a list of (weights, biases) tuples, one for each layer.\"\"\"\n",
    "    return [(rs.randn(insize, outsize) * scale,   # weight matrix\n",
    "             rs.randn(outsize) * scale)           # bias vector\n",
    "            for insize, outsize in zip(layer_sizes[:-1], layer_sizes[1:])]\n",
    "\n",
    "# Define neural ODE model.\n",
    "def ode_pred(params, y0, t):\n",
    "    return odeint(nn_predict, y0, t, tuple((params,)), rtol=0.01)\n",
    "\n",
    "def L1_loss(pred, targets):\n",
    "    return np.mean(np.abs(pred - targets))"
   ]
  },
  {
   "cell_type": "code",
   "execution_count": 3,
   "metadata": {},
   "outputs": [],
   "source": [
    "true_y0 = np.array([2., 0.]).T\n",
    "t = np.linspace(0., max_T, N)\n",
    "true_A = np.array([[-0.1, 2.0], [-2.0, -0.1]])\n",
    "true_y = odeint(func, true_y0, t, args=(true_A,))\n",
    "\n",
    "def train_loss(params):\n",
    "    pred = ode_pred(params, true_y0, t)\n",
    "    return L1_loss(pred, true_y)"
   ]
  },
  {
   "cell_type": "code",
   "execution_count": 4,
   "metadata": {},
   "outputs": [],
   "source": [
    "gradLoss = grad(train_loss)"
   ]
  },
  {
   "cell_type": "code",
   "execution_count": 5,
   "metadata": {},
   "outputs": [],
   "source": [
    "init_params = init_nn_params(0.1, layer_sizes=[D, 150, D])"
   ]
  }
 ],
 "metadata": {
  "kernelspec": {
   "display_name": "Python 3",
   "language": "python",
   "name": "python3"
  },
  "language_info": {
   "codemirror_mode": {
    "name": "ipython",
    "version": 3
   },
   "file_extension": ".py",
   "mimetype": "text/x-python",
   "name": "python",
   "nbconvert_exporter": "python",
   "pygments_lexer": "ipython3",
   "version": "3.6.4"
  }
 },
 "nbformat": 4,
 "nbformat_minor": 2
}
